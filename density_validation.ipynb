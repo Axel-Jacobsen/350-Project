{
 "cells": [
  {
   "cell_type": "code",
   "execution_count": 1,
   "metadata": {},
   "outputs": [],
   "source": [
    "import numpy as np\n",
    "import matplotlib.pyplot as plt"
   ]
  },
  {
   "cell_type": "code",
   "execution_count": 2,
   "metadata": {},
   "outputs": [],
   "source": [
    "\"\"\"\n",
    "Pressure is P0 * exp(-ghM / (T0*R0))\n",
    "\"\"\"\n",
    "P0 = 101.325 # kPa\n",
    "g = 9.81     # Gravitational Const.\n",
    "M = 0.02897  # Molar mass of dry air\n",
    "T0 = 288.16  # Sea level standard temperature\n",
    "R0 = 8.314   # Universal Gas Constant\n",
    "L = 0.0065   # Standard Lapse Rate, Kelvin / meter\n",
    "den0 = P0 * M / (R0 * T0) # Density at altitude 0\n",
    "Hn = 10.4e3  # From Density approx, ~10.4 km"
   ]
  },
  {
   "cell_type": "code",
   "execution_count": 3,
   "metadata": {},
   "outputs": [],
   "source": [
    "def pressure(h):\n",
    "    return P0 * np.exp(- g * h * M / (T0 * R0))"
   ]
  },
  {
   "cell_type": "code",
   "execution_count": 4,
   "metadata": {},
   "outputs": [],
   "source": [
    "\"\"\" For blackboard calculations, its easier to let gM / (T0*R0) = tau\n",
    "\"\"\"\n",
    "tau = g*M / (T0*R0)"
   ]
  },
  {
   "cell_type": "code",
   "execution_count": 5,
   "metadata": {},
   "outputs": [
    {
     "name": "stdout",
     "output_type": "stream",
     "text": [
      "1.1862e-04\n"
     ]
    }
   ],
   "source": [
    "print(f'{tau:.4e}')"
   ]
  },
  {
   "cell_type": "code",
   "execution_count": 6,
   "metadata": {},
   "outputs": [],
   "source": [
    "\"\"\"\n",
    "Density is (p0 M)/(RT0)(1-(Lh)/(T0))^(gM/RL-1)\n",
    "\"\"\"\n",
    "def density(h):\n",
    "    return P0 * M / (R0 * T0) * (1-L*h / T0)**(g*M/(R0 * L) - 1)"
   ]
  },
  {
   "cell_type": "code",
   "execution_count": 7,
   "metadata": {},
   "outputs": [],
   "source": [
    "def density_approx(h):\n",
    "    return den0 * np.exp(-h / Hn)"
   ]
  },
  {
   "cell_type": "code",
   "execution_count": 8,
   "metadata": {},
   "outputs": [],
   "source": [
    "altitudes = np.linspace(0, int(10e3), int(1e2))"
   ]
  },
  {
   "cell_type": "code",
   "execution_count": 9,
   "metadata": {},
   "outputs": [
    {
     "data": {
      "text/plain": [
       "[<matplotlib.lines.Line2D at 0x125146240>]"
      ]
     },
     "execution_count": 9,
     "metadata": {},
     "output_type": "execute_result"
    },
    {
     "data": {
      "image/png": "[encoded data removed]",
      "text/plain": [
       "<Figure size 432x288 with 1 Axes>"
      ]
     },
     "metadata": {
      "needs_background": "light"
     },
     "output_type": "display_data"
    }
   ],
   "source": [
    "plt.plot(altitudes, density(altitudes))\n",
    "plt.plot(altitudes, density_approx(altitudes))"
   ]
  },
  {
   "cell_type": "code",
   "execution_count": null,
   "metadata": {},
   "outputs": [],
   "source": []
  }
 ],
 "metadata": {
  "kernelspec": {
   "display_name": "Python 3",
   "language": "python",
   "name": "python3"
  },
  "language_info": {
   "codemirror_mode": {
    "name": "ipython",
    "version": 3
   },
   "file_extension": ".py",
   "mimetype": "text/x-python",
   "name": "python",
   "nbconvert_exporter": "python",
   "pygments_lexer": "ipython3",
   "version": "3.7.3"
  }
 },
 "nbformat": 4,
 "nbformat_minor": 4
}
